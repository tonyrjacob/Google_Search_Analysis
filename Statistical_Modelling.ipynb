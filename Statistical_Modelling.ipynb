{
 "cells": [
  {
   "cell_type": "markdown",
   "id": "d51e9927",
   "metadata": {},
   "source": [
    "# Google Search Analysis with Python\n",
    "\n",
    "On average, 3.5 billion searches are made every day on Google, which translates to about 40,000 queries made every second. Therefore, using Google search to analyse data based on search queries is a perfect use case."
   ]
  },
  {
   "cell_type": "code",
   "execution_count": 1,
   "id": "fca611ce",
   "metadata": {},
   "outputs": [
    {
     "name": "stdout",
     "output_type": "stream",
     "text": [
      "Requirement already satisfied: pytrends in c:\\users\\tony\\appdata\\local\\programs\\python\\python310\\lib\\site-packages (4.8.0)\n",
      "Requirement already satisfied: pandas>=0.25 in c:\\users\\tony\\appdata\\local\\programs\\python\\python310\\lib\\site-packages (from pytrends) (1.4.2)\n",
      "Requirement already satisfied: lxml in c:\\users\\tony\\appdata\\local\\programs\\python\\python310\\lib\\site-packages (from pytrends) (4.9.1)\n",
      "Requirement already satisfied: requests>=2.0 in c:\\users\\tony\\appdata\\local\\programs\\python\\python310\\lib\\site-packages (from pytrends) (2.28.1)\n",
      "Requirement already satisfied: python-dateutil>=2.8.1 in c:\\users\\tony\\appdata\\local\\programs\\python\\python310\\lib\\site-packages (from pandas>=0.25->pytrends) (2.8.2)\n",
      "Requirement already satisfied: pytz>=2020.1 in c:\\users\\tony\\appdata\\local\\programs\\python\\python310\\lib\\site-packages (from pandas>=0.25->pytrends) (2022.1)\n",
      "Requirement already satisfied: numpy>=1.21.0 in c:\\users\\tony\\appdata\\local\\programs\\python\\python310\\lib\\site-packages (from pandas>=0.25->pytrends) (1.22.4)\n",
      "Requirement already satisfied: charset-normalizer<3,>=2 in c:\\users\\tony\\appdata\\local\\programs\\python\\python310\\lib\\site-packages (from requests>=2.0->pytrends) (2.1.0)\n",
      "Requirement already satisfied: certifi>=2017.4.17 in c:\\users\\tony\\appdata\\local\\programs\\python\\python310\\lib\\site-packages (from requests>=2.0->pytrends) (2022.6.15)\n",
      "Requirement already satisfied: urllib3<1.27,>=1.21.1 in c:\\users\\tony\\appdata\\local\\programs\\python\\python310\\lib\\site-packages (from requests>=2.0->pytrends) (1.26.11)\n",
      "Requirement already satisfied: idna<4,>=2.5 in c:\\users\\tony\\appdata\\local\\programs\\python\\python310\\lib\\site-packages (from requests>=2.0->pytrends) (3.3)\n",
      "Requirement already satisfied: six>=1.5 in c:\\users\\tony\\appdata\\local\\programs\\python\\python310\\lib\\site-packages (from python-dateutil>=2.8.1->pandas>=0.25->pytrends) (1.16.0)\n"
     ]
    },
    {
     "name": "stderr",
     "output_type": "stream",
     "text": [
      "WARNING: You are using pip version 22.0.4; however, version 22.2.1 is available.\n",
      "You should consider upgrading via the 'C:\\Users\\Tony\\AppData\\Local\\Programs\\Python\\Python310\\python.exe -m pip install --upgrade pip' command.\n"
     ]
    }
   ],
   "source": [
    "# Installing the reqiured package for the analytics \n",
    "!pip install pytrends"
   ]
  },
  {
   "cell_type": "code",
   "execution_count": 4,
   "id": "b6c38ddb",
   "metadata": {},
   "outputs": [],
   "source": [
    "# Import required modlues to the python environment\n",
    "import pandas as pd\n",
    "from pytrends.request import TrendReq\n",
    "import matplotlib.pyplot as plt\n",
    "trends = TrendReq()"
   ]
  },
  {
   "cell_type": "markdown",
   "id": "4951fbae",
   "metadata": {},
   "source": [
    "# Let’s create a DataFrame of the top 10 countries which search for “Machine Learning” on Google:"
   ]
  },
  {
   "cell_type": "code",
   "execution_count": 5,
   "id": "fffc3676",
   "metadata": {},
   "outputs": [
    {
     "name": "stdout",
     "output_type": "stream",
     "text": [
      "             Machine Learning\n",
      "geoName                      \n",
      "China                     100\n",
      "Singapore                  45\n",
      "Ethiopia                   36\n",
      "India                      33\n",
      "St. Helena                 31\n",
      "Hong Kong                  24\n",
      "Pakistan                   23\n",
      "South Korea                22\n",
      "Tunisia                    20\n",
      "Bangladesh                 20\n"
     ]
    }
   ],
   "source": [
    "trends.build_payload(kw_list=[\"Machine Learning\"])\n",
    "data = trends.interest_by_region()\n",
    "data = data.sort_values(by=\"Machine Learning\", ascending=False)\n",
    "data = data.head(10)\n",
    "print(data)"
   ]
  },
  {
   "cell_type": "markdown",
   "id": "6f391eee",
   "metadata": {},
   "source": [
    "### Information from the graph\n",
    "According to the aforementioned findings, China is where \"Machine learning\"-related search searches are made most frequently.\n",
    "\n",
    "\n",
    "\n",
    "\n",
    "#### Instead of the word 'Machine Learning' we can use any other word for finding the information. "
   ]
  },
  {
   "cell_type": "markdown",
   "id": "15f0f77f",
   "metadata": {},
   "source": [
    "# We can also visualize this data using a bar chart:"
   ]
  },
  {
   "cell_type": "code",
   "execution_count": 6,
   "id": "5d149945",
   "metadata": {},
   "outputs": [
    {
     "data": {
      "image/png": "[encoded data removed]",
      "text/plain": [
       "<Figure size 1440x1080 with 1 Axes>"
      ]
     },
     "metadata": {
      "needs_background": "light"
     },
     "output_type": "display_data"
    }
   ],
   "source": [
    "data.reset_index().plot(x=\"geoName\", y=\"Machine Learning\", \n",
    "                        figsize=(20,15), kind=\"bar\")\n",
    "plt.style.use('fivethirtyeight')\n",
    "plt.show()"
   ]
  },
  {
   "cell_type": "markdown",
   "id": "da29d9e1",
   "metadata": {},
   "source": [
    "### Information from the graph\n",
    " The above information  in the form of table, we have converted into a bar chart in order to visualizer it easily.The information from the above and the table is same, however the bar chart make the presentation more easy."
   ]
  },
  {
   "cell_type": "markdown",
   "id": "62d0d890",
   "metadata": {},
   "source": [
    "# Let’s have a look at the trend of searches to see how the total search queries based on “Machine Learning” increased or decreased on Google:"
   ]
  },
  {
   "cell_type": "code",
   "execution_count": 9,
   "id": "11281acc",
   "metadata": {},
   "outputs": [
    {
     "data": {
      "text/html": [
       "<div>\n",
       "<style scoped>\n",
       "    .dataframe tbody tr th:only-of-type {\n",
       "        vertical-align: middle;\n",
       "    }\n",
       "\n",
       "    .dataframe tbody tr th {\n",
       "        vertical-align: top;\n",
       "    }\n",
       "\n",
       "    .dataframe thead th {\n",
       "        text-align: right;\n",
       "    }\n",
       "</style>\n",
       "<table border=\"1\" class=\"dataframe\">\n",
       "  <thead>\n",
       "    <tr style=\"text-align: right;\">\n",
       "      <th></th>\n",
       "      <th>Machine Learning</th>\n",
       "      <th>isPartial</th>\n",
       "    </tr>\n",
       "    <tr>\n",
       "      <th>date</th>\n",
       "      <th></th>\n",
       "      <th></th>\n",
       "    </tr>\n",
       "  </thead>\n",
       "  <tbody>\n",
       "    <tr>\n",
       "      <th>2017-08-13</th>\n",
       "      <td>40</td>\n",
       "      <td>False</td>\n",
       "    </tr>\n",
       "    <tr>\n",
       "      <th>2017-08-20</th>\n",
       "      <td>41</td>\n",
       "      <td>False</td>\n",
       "    </tr>\n",
       "    <tr>\n",
       "      <th>2017-08-27</th>\n",
       "      <td>41</td>\n",
       "      <td>False</td>\n",
       "    </tr>\n",
       "    <tr>\n",
       "      <th>2017-09-03</th>\n",
       "      <td>45</td>\n",
       "      <td>False</td>\n",
       "    </tr>\n",
       "    <tr>\n",
       "      <th>2017-09-10</th>\n",
       "      <td>46</td>\n",
       "      <td>False</td>\n",
       "    </tr>\n",
       "    <tr>\n",
       "      <th>...</th>\n",
       "      <td>...</td>\n",
       "      <td>...</td>\n",
       "    </tr>\n",
       "    <tr>\n",
       "      <th>2022-07-03</th>\n",
       "      <td>78</td>\n",
       "      <td>False</td>\n",
       "    </tr>\n",
       "    <tr>\n",
       "      <th>2022-07-10</th>\n",
       "      <td>75</td>\n",
       "      <td>False</td>\n",
       "    </tr>\n",
       "    <tr>\n",
       "      <th>2022-07-17</th>\n",
       "      <td>80</td>\n",
       "      <td>False</td>\n",
       "    </tr>\n",
       "    <tr>\n",
       "      <th>2022-07-24</th>\n",
       "      <td>77</td>\n",
       "      <td>False</td>\n",
       "    </tr>\n",
       "    <tr>\n",
       "      <th>2022-07-31</th>\n",
       "      <td>68</td>\n",
       "      <td>True</td>\n",
       "    </tr>\n",
       "  </tbody>\n",
       "</table>\n",
       "<p>260 rows × 2 columns</p>\n",
       "</div>"
      ],
      "text/plain": [
       "            Machine Learning  isPartial\n",
       "date                                   \n",
       "2017-08-13                40      False\n",
       "2017-08-20                41      False\n",
       "2017-08-27                41      False\n",
       "2017-09-03                45      False\n",
       "2017-09-10                46      False\n",
       "...                      ...        ...\n",
       "2022-07-03                78      False\n",
       "2022-07-10                75      False\n",
       "2022-07-17                80      False\n",
       "2022-07-24                77      False\n",
       "2022-07-31                68       True\n",
       "\n",
       "[260 rows x 2 columns]"
      ]
     },
     "execution_count": 9,
     "metadata": {},
     "output_type": "execute_result"
    }
   ],
   "source": [
    "data = TrendReq(hl='en-US', tz=360)\n",
    "data.build_payload(kw_list=['Machine Learning'])\n",
    "data = data.interest_over_time()\n",
    "data"
   ]
  },
  {
   "cell_type": "code",
   "execution_count": 10,
   "id": "b152466b",
   "metadata": {},
   "outputs": [
    {
     "data": {
      "image/png": "[encoded data removed]",
      "text/plain": [
       "<Figure size 1440x1080 with 1 Axes>"
      ]
     },
     "metadata": {},
     "output_type": "display_data"
    }
   ],
   "source": [
    "fig, ax = plt.subplots(figsize=(20, 15))\n",
    "data['Machine Learning'].plot()\n",
    "plt.style.use('fivethirtyeight')\n",
    "plt.title('Total Google Searches for Machine Learning', fontweight='bold')\n",
    "plt.xlabel('Year')\n",
    "plt.ylabel('Total Count')\n",
    "plt.show()"
   ]
  },
  {
   "cell_type": "markdown",
   "id": "c28d5891",
   "metadata": {},
   "source": [
    "### Information from the graph\n",
    "\n",
    "The graph above shows that searches for the term \"machine learning\" peaked after 2022."
   ]
  },
  {
   "cell_type": "markdown",
   "id": "4e7c3fe8",
   "metadata": {},
   "source": [
    "# We have access to the most popular searches each year."
   ]
  },
  {
   "cell_type": "markdown",
   "id": "1cbf1e11",
   "metadata": {},
   "source": [
    "# For the year 2020"
   ]
  },
  {
   "cell_type": "code",
   "execution_count": 12,
   "id": "bba4c3c0",
   "metadata": {},
   "outputs": [
    {
     "data": {
      "text/html": [
       "<div>\n",
       "<style scoped>\n",
       "    .dataframe tbody tr th:only-of-type {\n",
       "        vertical-align: middle;\n",
       "    }\n",
       "\n",
       "    .dataframe tbody tr th {\n",
       "        vertical-align: top;\n",
       "    }\n",
       "\n",
       "    .dataframe thead th {\n",
       "        text-align: right;\n",
       "    }\n",
       "</style>\n",
       "<table border=\"1\" class=\"dataframe\">\n",
       "  <thead>\n",
       "    <tr style=\"text-align: right;\">\n",
       "      <th></th>\n",
       "      <th>title</th>\n",
       "      <th>exploreQuery</th>\n",
       "    </tr>\n",
       "  </thead>\n",
       "  <tbody>\n",
       "    <tr>\n",
       "      <th>0</th>\n",
       "      <td>Coronavirus</td>\n",
       "      <td></td>\n",
       "    </tr>\n",
       "    <tr>\n",
       "      <th>1</th>\n",
       "      <td>Election results</td>\n",
       "      <td></td>\n",
       "    </tr>\n",
       "    <tr>\n",
       "      <th>2</th>\n",
       "      <td>Kobe Bryant</td>\n",
       "      <td></td>\n",
       "    </tr>\n",
       "    <tr>\n",
       "      <th>3</th>\n",
       "      <td>Zoom</td>\n",
       "      <td></td>\n",
       "    </tr>\n",
       "    <tr>\n",
       "      <th>4</th>\n",
       "      <td>IPL</td>\n",
       "      <td></td>\n",
       "    </tr>\n",
       "    <tr>\n",
       "      <th>5</th>\n",
       "      <td>India vs New Zealand</td>\n",
       "      <td></td>\n",
       "    </tr>\n",
       "    <tr>\n",
       "      <th>6</th>\n",
       "      <td>Coronavirus update</td>\n",
       "      <td></td>\n",
       "    </tr>\n",
       "    <tr>\n",
       "      <th>7</th>\n",
       "      <td>Coronavirus symptoms</td>\n",
       "      <td></td>\n",
       "    </tr>\n",
       "    <tr>\n",
       "      <th>8</th>\n",
       "      <td>Joe Biden</td>\n",
       "      <td></td>\n",
       "    </tr>\n",
       "    <tr>\n",
       "      <th>9</th>\n",
       "      <td>Google Classroom</td>\n",
       "      <td></td>\n",
       "    </tr>\n",
       "  </tbody>\n",
       "</table>\n",
       "</div>"
      ],
      "text/plain": [
       "                  title exploreQuery\n",
       "0           Coronavirus             \n",
       "1      Election results             \n",
       "2           Kobe Bryant             \n",
       "3                  Zoom             \n",
       "4                   IPL             \n",
       "5  India vs New Zealand             \n",
       "6    Coronavirus update             \n",
       "7  Coronavirus symptoms             \n",
       "8             Joe Biden             \n",
       "9      Google Classroom             "
      ]
     },
     "execution_count": 12,
     "metadata": {},
     "output_type": "execute_result"
    }
   ],
   "source": [
    "df = trends.top_charts(2020, hl='en-US', \n",
    "                                tz=300, geo='GLOBAL')\n",
    "df.head(10)"
   ]
  },
  {
   "cell_type": "markdown",
   "id": "90e04571",
   "metadata": {},
   "source": [
    "### Information from the above table\n",
    "\n",
    "We can see from the output above that \"Coronavirus\" will be the most searched keyword in 2020, followed by the others."
   ]
  },
  {
   "cell_type": "markdown",
   "id": "b1f803d3",
   "metadata": {},
   "source": [
    "# For the year 2022"
   ]
  },
  {
   "cell_type": "code",
   "execution_count": 30,
   "id": "81d558c6",
   "metadata": {},
   "outputs": [
    {
     "data": {
      "text/html": [
       "<div>\n",
       "<style scoped>\n",
       "    .dataframe tbody tr th:only-of-type {\n",
       "        vertical-align: middle;\n",
       "    }\n",
       "\n",
       "    .dataframe tbody tr th {\n",
       "        vertical-align: top;\n",
       "    }\n",
       "\n",
       "    .dataframe thead th {\n",
       "        text-align: right;\n",
       "    }\n",
       "</style>\n",
       "<table border=\"1\" class=\"dataframe\">\n",
       "  <thead>\n",
       "    <tr style=\"text-align: right;\">\n",
       "      <th></th>\n",
       "      <th>title</th>\n",
       "      <th>exploreQuery</th>\n",
       "    </tr>\n",
       "  </thead>\n",
       "  <tbody>\n",
       "    <tr>\n",
       "      <th>0</th>\n",
       "      <td>Australia vs India</td>\n",
       "      <td></td>\n",
       "    </tr>\n",
       "    <tr>\n",
       "      <th>1</th>\n",
       "      <td>India vs England</td>\n",
       "      <td></td>\n",
       "    </tr>\n",
       "    <tr>\n",
       "      <th>2</th>\n",
       "      <td>IPL</td>\n",
       "      <td></td>\n",
       "    </tr>\n",
       "    <tr>\n",
       "      <th>3</th>\n",
       "      <td>NBA</td>\n",
       "      <td></td>\n",
       "    </tr>\n",
       "    <tr>\n",
       "      <th>4</th>\n",
       "      <td>Euro 2021</td>\n",
       "      <td></td>\n",
       "    </tr>\n",
       "    <tr>\n",
       "      <th>5</th>\n",
       "      <td>Copa América</td>\n",
       "      <td>Copa America</td>\n",
       "    </tr>\n",
       "    <tr>\n",
       "      <th>6</th>\n",
       "      <td>India vs New Zealand</td>\n",
       "      <td></td>\n",
       "    </tr>\n",
       "    <tr>\n",
       "      <th>7</th>\n",
       "      <td>T20 World Cup</td>\n",
       "      <td></td>\n",
       "    </tr>\n",
       "    <tr>\n",
       "      <th>8</th>\n",
       "      <td>Squid Game</td>\n",
       "      <td></td>\n",
       "    </tr>\n",
       "    <tr>\n",
       "      <th>9</th>\n",
       "      <td>DMX</td>\n",
       "      <td></td>\n",
       "    </tr>\n",
       "  </tbody>\n",
       "</table>\n",
       "</div>"
      ],
      "text/plain": [
       "                  title  exploreQuery\n",
       "0    Australia vs India              \n",
       "1      India vs England              \n",
       "2                   IPL              \n",
       "3                   NBA              \n",
       "4             Euro 2021              \n",
       "5          Copa América  Copa America\n",
       "6  India vs New Zealand              \n",
       "7         T20 World Cup              \n",
       "8            Squid Game              \n",
       "9                   DMX              "
      ]
     },
     "execution_count": 30,
     "metadata": {},
     "output_type": "execute_result"
    }
   ],
   "source": [
    "df = trends.top_charts(2021, hl='en-US', \n",
    "                                tz=300, geo='GLOBAL')\n",
    "df.head(10)"
   ]
  },
  {
   "cell_type": "markdown",
   "id": "d2b842cb",
   "metadata": {},
   "source": [
    "### Information from the above table\n",
    "\n",
    "We can see from the output above that \"Australia vs India\" will be the most searched keyword in 2020, followed by the others."
   ]
  },
  {
   "cell_type": "markdown",
   "id": "94f20929",
   "metadata": {},
   "source": [
    "# Related Query\n",
    "There is a good chance that a person who conducts a Google search for a specific topic will conduct more searches on that same topic. These are referred to as related searches. Let's look up a list of questions that are connected to \"Machine Learning.\""
   ]
  },
  {
   "cell_type": "code",
   "execution_count": 13,
   "id": "e49d1a29",
   "metadata": {},
   "outputs": [
    {
     "data": {
      "text/plain": [
       "dict_values([{'top':                               query  value\n",
       "0             machine learning data    100\n",
       "1           python machine learning     76\n",
       "2                            python     76\n",
       "3          what is machine learning     56\n",
       "4                                ai     47\n",
       "5               ai machine learning     47\n",
       "6                     deep learning     41\n",
       "7    machine learning deep learning     41\n",
       "8           google machine learning     36\n",
       "9            machine learning model     34\n",
       "10             machine learning pdf     31\n",
       "11      machine learning algorithms     28\n",
       "12          machine learning course     28\n",
       "13          artificial intelligence     27\n",
       "14                     data science     27\n",
       "15      machine learning regression     25\n",
       "16                       regression     25\n",
       "17       machine learning algorithm     24\n",
       "18                        algorithm     23\n",
       "19  classification machine learning     22\n",
       "20                   classification     22\n",
       "21                               ml     20\n",
       "22        machine learning engineer     19\n",
       "23      python for machine learning     18\n",
       "24            machine learning jobs     17, 'rising':                                                 query  value\n",
       "0                                               colab  16650\n",
       "1                                        google colab  12400\n",
       "2                google machine learning crash course   6950\n",
       "3                                             pytorch   2350\n",
       "4              advances in financial machine learning   2050\n",
       "5                  aws machine learning certification   1450\n",
       "6                             machine learning cơ bản    900\n",
       "7                                              scihub    650\n",
       "8                      interpretable machine learning    650\n",
       "9                    machine learning engineer salary    500\n",
       "10                                            sci hub    500\n",
       "11           feature engineering for machine learning    500\n",
       "12                  knn algorithm in machine learning    500\n",
       "13                      machine learning crash course    450\n",
       "14                            machine learning and ai    450\n",
       "15                            machine learning que es    450\n",
       "16                          hands on machine learning    400\n",
       "17  hands on machine learning with scikit-learn an...    400\n",
       "18                    what is artificial intelligence    400\n",
       "19  hands on machine learning with scikit-learn an...    400\n",
       "20                           o que é machine learning    400\n",
       "21                          machine learning engineer    350\n",
       "22                                         blockchain    350\n",
       "23                            machine learning adalah    350\n",
       "24                              what is deep learning    350}])"
      ]
     },
     "execution_count": 13,
     "metadata": {},
     "output_type": "execute_result"
    }
   ],
   "source": [
    "trends.build_payload(kw_list=['Machine Learning'])\n",
    "related_queries = trends.related_queries()\n",
    "related_queries.values()"
   ]
  },
  {
   "cell_type": "markdown",
   "id": "2cfc77e8",
   "metadata": {},
   "source": [
    "##### Above findings are a few of the Google searches for machine learning that are most popular."
   ]
  },
  {
   "cell_type": "markdown",
   "id": "29740c21",
   "metadata": {},
   "source": [
    "# Trending Searches in each reagion"
   ]
  },
  {
   "cell_type": "code",
   "execution_count": 19,
   "id": "3b11e27f",
   "metadata": {},
   "outputs": [],
   "source": [
    "trending_US = trends.trending_searches(pn='united_states') # trending searches in real time for United States\n",
    "trending_Canada = trends.trending_searches(pn='canada')"
   ]
  },
  {
   "cell_type": "code",
   "execution_count": 20,
   "id": "04c208f3",
   "metadata": {},
   "outputs": [
    {
     "data": {
      "text/html": [
       "<div>\n",
       "<style scoped>\n",
       "    .dataframe tbody tr th:only-of-type {\n",
       "        vertical-align: middle;\n",
       "    }\n",
       "\n",
       "    .dataframe tbody tr th {\n",
       "        vertical-align: top;\n",
       "    }\n",
       "\n",
       "    .dataframe thead th {\n",
       "        text-align: right;\n",
       "    }\n",
       "</style>\n",
       "<table border=\"1\" class=\"dataframe\">\n",
       "  <thead>\n",
       "    <tr style=\"text-align: right;\">\n",
       "      <th></th>\n",
       "      <th>0</th>\n",
       "    </tr>\n",
       "  </thead>\n",
       "  <tbody>\n",
       "    <tr>\n",
       "      <th>0</th>\n",
       "      <td>Man United vs Brighton</td>\n",
       "    </tr>\n",
       "    <tr>\n",
       "      <th>1</th>\n",
       "      <td>Teresa Giudice wedding</td>\n",
       "    </tr>\n",
       "    <tr>\n",
       "      <th>2</th>\n",
       "      <td>Everton vs Chelsea</td>\n",
       "    </tr>\n",
       "    <tr>\n",
       "      <th>3</th>\n",
       "      <td>Tottenham vs Southampton</td>\n",
       "    </tr>\n",
       "    <tr>\n",
       "      <th>4</th>\n",
       "      <td>PSG</td>\n",
       "    </tr>\n",
       "    <tr>\n",
       "      <th>5</th>\n",
       "      <td>Archie Battersbee</td>\n",
       "    </tr>\n",
       "    <tr>\n",
       "      <th>6</th>\n",
       "      <td>Liverpool</td>\n",
       "    </tr>\n",
       "    <tr>\n",
       "      <th>7</th>\n",
       "      <td>Khloe Kardashian</td>\n",
       "    </tr>\n",
       "    <tr>\n",
       "      <th>8</th>\n",
       "      <td>Demaryius Thomas died</td>\n",
       "    </tr>\n",
       "    <tr>\n",
       "      <th>9</th>\n",
       "      <td>Taron Egerton</td>\n",
       "    </tr>\n",
       "    <tr>\n",
       "      <th>10</th>\n",
       "      <td>India vs West Indies</td>\n",
       "    </tr>\n",
       "    <tr>\n",
       "      <th>11</th>\n",
       "      <td>Jamahal Hill</td>\n",
       "    </tr>\n",
       "    <tr>\n",
       "      <th>12</th>\n",
       "      <td>Daniel Ricciardo</td>\n",
       "    </tr>\n",
       "    <tr>\n",
       "      <th>13</th>\n",
       "      <td>Anne Heche</td>\n",
       "    </tr>\n",
       "    <tr>\n",
       "      <th>14</th>\n",
       "      <td>Kim Kardashian</td>\n",
       "    </tr>\n",
       "    <tr>\n",
       "      <th>15</th>\n",
       "      <td>The Sandman</td>\n",
       "    </tr>\n",
       "    <tr>\n",
       "      <th>16</th>\n",
       "      <td>Crystal Palace vs Arsenal</td>\n",
       "    </tr>\n",
       "    <tr>\n",
       "      <th>17</th>\n",
       "      <td>Uncharted</td>\n",
       "    </tr>\n",
       "    <tr>\n",
       "      <th>18</th>\n",
       "      <td>Thirteen Lives</td>\n",
       "    </tr>\n",
       "    <tr>\n",
       "      <th>19</th>\n",
       "      <td>Tiger Woods</td>\n",
       "    </tr>\n",
       "  </tbody>\n",
       "</table>\n",
       "</div>"
      ],
      "text/plain": [
       "                            0\n",
       "0      Man United vs Brighton\n",
       "1      Teresa Giudice wedding\n",
       "2          Everton vs Chelsea\n",
       "3    Tottenham vs Southampton\n",
       "4                         PSG\n",
       "5           Archie Battersbee\n",
       "6                   Liverpool\n",
       "7            Khloe Kardashian\n",
       "8       Demaryius Thomas died\n",
       "9               Taron Egerton\n",
       "10       India vs West Indies\n",
       "11               Jamahal Hill\n",
       "12           Daniel Ricciardo\n",
       "13                 Anne Heche\n",
       "14             Kim Kardashian\n",
       "15                The Sandman\n",
       "16  Crystal Palace vs Arsenal\n",
       "17                  Uncharted\n",
       "18             Thirteen Lives\n",
       "19                Tiger Woods"
      ]
     },
     "execution_count": 20,
     "metadata": {},
     "output_type": "execute_result"
    }
   ],
   "source": [
    "trending_US"
   ]
  },
  {
   "cell_type": "markdown",
   "id": "682f7361",
   "metadata": {},
   "source": [
    "### Information from the above table\n",
    "\n",
    "\"Man United vs Brighton\" is the most search word in US"
   ]
  },
  {
   "cell_type": "code",
   "execution_count": 21,
   "id": "349736e6",
   "metadata": {},
   "outputs": [
    {
     "data": {
      "text/html": [
       "<div>\n",
       "<style scoped>\n",
       "    .dataframe tbody tr th:only-of-type {\n",
       "        vertical-align: middle;\n",
       "    }\n",
       "\n",
       "    .dataframe tbody tr th {\n",
       "        vertical-align: top;\n",
       "    }\n",
       "\n",
       "    .dataframe thead th {\n",
       "        text-align: right;\n",
       "    }\n",
       "</style>\n",
       "<table border=\"1\" class=\"dataframe\">\n",
       "  <thead>\n",
       "    <tr style=\"text-align: right;\">\n",
       "      <th></th>\n",
       "      <th>0</th>\n",
       "    </tr>\n",
       "  </thead>\n",
       "  <tbody>\n",
       "    <tr>\n",
       "      <th>0</th>\n",
       "      <td>Man United vs Brighton</td>\n",
       "    </tr>\n",
       "    <tr>\n",
       "      <th>1</th>\n",
       "      <td>Britney Spears</td>\n",
       "    </tr>\n",
       "    <tr>\n",
       "      <th>2</th>\n",
       "      <td>BC Lions</td>\n",
       "    </tr>\n",
       "    <tr>\n",
       "      <th>3</th>\n",
       "      <td>Jamahal Hill</td>\n",
       "    </tr>\n",
       "    <tr>\n",
       "      <th>4</th>\n",
       "      <td>Leicester City vs Brentford</td>\n",
       "    </tr>\n",
       "    <tr>\n",
       "      <th>5</th>\n",
       "      <td>West Ham vs Man City</td>\n",
       "    </tr>\n",
       "    <tr>\n",
       "      <th>6</th>\n",
       "      <td>Geoff Neal</td>\n",
       "    </tr>\n",
       "    <tr>\n",
       "      <th>7</th>\n",
       "      <td>Sam Alvey</td>\n",
       "    </tr>\n",
       "    <tr>\n",
       "      <th>8</th>\n",
       "      <td>Heat warning</td>\n",
       "    </tr>\n",
       "    <tr>\n",
       "      <th>9</th>\n",
       "      <td>Fulham vs Liverpool</td>\n",
       "    </tr>\n",
       "    <tr>\n",
       "      <th>10</th>\n",
       "      <td>Everton vs Chelsea</td>\n",
       "    </tr>\n",
       "    <tr>\n",
       "      <th>11</th>\n",
       "      <td>Aydin Coban</td>\n",
       "    </tr>\n",
       "    <tr>\n",
       "      <th>12</th>\n",
       "      <td>India vs West Indies</td>\n",
       "    </tr>\n",
       "    <tr>\n",
       "      <th>13</th>\n",
       "      <td>Clermont Foot vs PSG</td>\n",
       "    </tr>\n",
       "    <tr>\n",
       "      <th>14</th>\n",
       "      <td>PSG</td>\n",
       "    </tr>\n",
       "    <tr>\n",
       "      <th>15</th>\n",
       "      <td>Archie Battersbee</td>\n",
       "    </tr>\n",
       "    <tr>\n",
       "      <th>16</th>\n",
       "      <td>Hlinka Gretzky Cup</td>\n",
       "    </tr>\n",
       "    <tr>\n",
       "      <th>17</th>\n",
       "      <td>Mitch White</td>\n",
       "    </tr>\n",
       "    <tr>\n",
       "      <th>18</th>\n",
       "      <td>Mohammed Usman</td>\n",
       "    </tr>\n",
       "    <tr>\n",
       "      <th>19</th>\n",
       "      <td>Lotto Max winner</td>\n",
       "    </tr>\n",
       "  </tbody>\n",
       "</table>\n",
       "</div>"
      ],
      "text/plain": [
       "                              0\n",
       "0        Man United vs Brighton\n",
       "1                Britney Spears\n",
       "2                      BC Lions\n",
       "3                  Jamahal Hill\n",
       "4   Leicester City vs Brentford\n",
       "5          West Ham vs Man City\n",
       "6                    Geoff Neal\n",
       "7                     Sam Alvey\n",
       "8                  Heat warning\n",
       "9           Fulham vs Liverpool\n",
       "10           Everton vs Chelsea\n",
       "11                  Aydin Coban\n",
       "12         India vs West Indies\n",
       "13         Clermont Foot vs PSG\n",
       "14                          PSG\n",
       "15            Archie Battersbee\n",
       "16           Hlinka Gretzky Cup\n",
       "17                  Mitch White\n",
       "18               Mohammed Usman\n",
       "19             Lotto Max winner"
      ]
     },
     "execution_count": 21,
     "metadata": {},
     "output_type": "execute_result"
    }
   ],
   "source": [
    "trending_Canada"
   ]
  },
  {
   "cell_type": "markdown",
   "id": "f66e0774",
   "metadata": {},
   "source": [
    "### Information from the above table\n",
    "\n",
    "\n",
    "\"Man United vs Brighton\" is also the most search word in Canada"
   ]
  },
  {
   "cell_type": "markdown",
   "id": "d5e1f986",
   "metadata": {},
   "source": [
    "# Realtime Search Trends in regions"
   ]
  },
  {
   "cell_type": "code",
   "execution_count": 23,
   "id": "c19a0243",
   "metadata": {},
   "outputs": [
    {
     "data": {
      "text/html": [
       "<div>\n",
       "<style scoped>\n",
       "    .dataframe tbody tr th:only-of-type {\n",
       "        vertical-align: middle;\n",
       "    }\n",
       "\n",
       "    .dataframe tbody tr th {\n",
       "        vertical-align: top;\n",
       "    }\n",
       "\n",
       "    .dataframe thead th {\n",
       "        text-align: right;\n",
       "    }\n",
       "</style>\n",
       "<table border=\"1\" class=\"dataframe\">\n",
       "  <thead>\n",
       "    <tr style=\"text-align: right;\">\n",
       "      <th></th>\n",
       "      <th>title</th>\n",
       "      <th>entityNames</th>\n",
       "    </tr>\n",
       "  </thead>\n",
       "  <tbody>\n",
       "    <tr>\n",
       "      <th>0</th>\n",
       "      <td>Atlético de Madrid, Juventus F.C., LaLiga, Álv...</td>\n",
       "      <td>[Atlético de Madrid, Juventus F.C., LaLiga, Ál...</td>\n",
       "    </tr>\n",
       "    <tr>\n",
       "      <th>1</th>\n",
       "      <td>Manchester United F.C., Eric Bailly, A.S. Roma...</td>\n",
       "      <td>[Manchester United F.C., Eric Bailly, A.S. Rom...</td>\n",
       "    </tr>\n",
       "    <tr>\n",
       "      <th>2</th>\n",
       "      <td>Maxwel Cornet, West Ham United F.C., Burnley F...</td>\n",
       "      <td>[Maxwel Cornet, West Ham United F.C., Burnley ...</td>\n",
       "    </tr>\n",
       "    <tr>\n",
       "      <th>3</th>\n",
       "      <td>Manchester United F.C., Leroy Sané, Manchester...</td>\n",
       "      <td>[Manchester United F.C., Leroy Sané, Mancheste...</td>\n",
       "    </tr>\n",
       "    <tr>\n",
       "      <th>4</th>\n",
       "      <td>India women's national cricket team, Alyssa He...</td>\n",
       "      <td>[India women's national cricket team, Alyssa H...</td>\n",
       "    </tr>\n",
       "    <tr>\n",
       "      <th>...</th>\n",
       "      <td>...</td>\n",
       "      <td>...</td>\n",
       "    </tr>\n",
       "    <tr>\n",
       "      <th>95</th>\n",
       "      <td>Bangladesh national cricket team, One Day Inte...</td>\n",
       "      <td>[Bangladesh national cricket team, One Day Int...</td>\n",
       "    </tr>\n",
       "    <tr>\n",
       "      <th>96</th>\n",
       "      <td>Miami Dolphins, Mike McDaniel, John Albert Elw...</td>\n",
       "      <td>[Miami Dolphins, Mike McDaniel, John Albert El...</td>\n",
       "    </tr>\n",
       "    <tr>\n",
       "      <th>97</th>\n",
       "      <td>Montreal, Montréal Pride, Media</td>\n",
       "      <td>[Montreal, Montréal Pride, Media]</td>\n",
       "    </tr>\n",
       "    <tr>\n",
       "      <th>98</th>\n",
       "      <td>United States Marine Corps, Four-star rank, Ge...</td>\n",
       "      <td>[United States Marine Corps, Four-star rank, G...</td>\n",
       "    </tr>\n",
       "    <tr>\n",
       "      <th>99</th>\n",
       "      <td>Baltimore Orioles, Pittsburgh Pirates, MLB</td>\n",
       "      <td>[Baltimore Orioles, Pittsburgh Pirates, MLB]</td>\n",
       "    </tr>\n",
       "  </tbody>\n",
       "</table>\n",
       "<p>100 rows × 2 columns</p>\n",
       "</div>"
      ],
      "text/plain": [
       "                                                title  \\\n",
       "0   Atlético de Madrid, Juventus F.C., LaLiga, Álv...   \n",
       "1   Manchester United F.C., Eric Bailly, A.S. Roma...   \n",
       "2   Maxwel Cornet, West Ham United F.C., Burnley F...   \n",
       "3   Manchester United F.C., Leroy Sané, Manchester...   \n",
       "4   India women's national cricket team, Alyssa He...   \n",
       "..                                                ...   \n",
       "95  Bangladesh national cricket team, One Day Inte...   \n",
       "96  Miami Dolphins, Mike McDaniel, John Albert Elw...   \n",
       "97                    Montreal, Montréal Pride, Media   \n",
       "98  United States Marine Corps, Four-star rank, Ge...   \n",
       "99         Baltimore Orioles, Pittsburgh Pirates, MLB   \n",
       "\n",
       "                                          entityNames  \n",
       "0   [Atlético de Madrid, Juventus F.C., LaLiga, Ál...  \n",
       "1   [Manchester United F.C., Eric Bailly, A.S. Rom...  \n",
       "2   [Maxwel Cornet, West Ham United F.C., Burnley ...  \n",
       "3   [Manchester United F.C., Leroy Sané, Mancheste...  \n",
       "4   [India women's national cricket team, Alyssa H...  \n",
       "..                                                ...  \n",
       "95  [Bangladesh national cricket team, One Day Int...  \n",
       "96  [Miami Dolphins, Mike McDaniel, John Albert El...  \n",
       "97                  [Montreal, Montréal Pride, Media]  \n",
       "98  [United States Marine Corps, Four-star rank, G...  \n",
       "99       [Baltimore Orioles, Pittsburgh Pirates, MLB]  \n",
       "\n",
       "[100 rows x 2 columns]"
      ]
     },
     "execution_count": 23,
     "metadata": {},
     "output_type": "execute_result"
    }
   ],
   "source": [
    "rtst_US = trends.realtime_trending_searches(pn='US') # realtime search trends for United States\n",
    "rtst_US"
   ]
  },
  {
   "cell_type": "code",
   "execution_count": 28,
   "id": "34dc15fd",
   "metadata": {},
   "outputs": [
    {
     "data": {
      "text/html": [
       "<div>\n",
       "<style scoped>\n",
       "    .dataframe tbody tr th:only-of-type {\n",
       "        vertical-align: middle;\n",
       "    }\n",
       "\n",
       "    .dataframe tbody tr th {\n",
       "        vertical-align: top;\n",
       "    }\n",
       "\n",
       "    .dataframe thead th {\n",
       "        text-align: right;\n",
       "    }\n",
       "</style>\n",
       "<table border=\"1\" class=\"dataframe\">\n",
       "  <thead>\n",
       "    <tr style=\"text-align: right;\">\n",
       "      <th></th>\n",
       "      <th>title</th>\n",
       "      <th>entityNames</th>\n",
       "    </tr>\n",
       "  </thead>\n",
       "  <tbody>\n",
       "    <tr>\n",
       "      <th>0</th>\n",
       "      <td>Spotify Camp Nou, FC Barcelona, Club Universid...</td>\n",
       "      <td>[Spotify Camp Nou, FC Barcelona, Club Universi...</td>\n",
       "    </tr>\n",
       "    <tr>\n",
       "      <th>1</th>\n",
       "      <td>FC Barcelona, Miralem Pjanić, Xavi</td>\n",
       "      <td>[FC Barcelona, Miralem Pjanić, Xavi]</td>\n",
       "    </tr>\n",
       "    <tr>\n",
       "      <th>2</th>\n",
       "      <td>Manchester City F.C., Premier League, West Ham...</td>\n",
       "      <td>[Manchester City F.C., Premier League, West Ha...</td>\n",
       "    </tr>\n",
       "    <tr>\n",
       "      <th>3</th>\n",
       "      <td>Manchester United F.C., Real Madrid CF, Manche...</td>\n",
       "      <td>[Manchester United F.C., Real Madrid CF, Manch...</td>\n",
       "    </tr>\n",
       "    <tr>\n",
       "      <th>4</th>\n",
       "      <td>Juan Dinenno, Club Universidad Nacional, Al-Sh...</td>\n",
       "      <td>[Juan Dinenno, Club Universidad Nacional, Al-S...</td>\n",
       "    </tr>\n",
       "    <tr>\n",
       "      <th>...</th>\n",
       "      <td>...</td>\n",
       "      <td>...</td>\n",
       "    </tr>\n",
       "    <tr>\n",
       "      <th>120</th>\n",
       "      <td>Andrés García, Rafael Inclán, Sharks</td>\n",
       "      <td>[Andrés García, Rafael Inclán, Sharks]</td>\n",
       "    </tr>\n",
       "    <tr>\n",
       "      <th>121</th>\n",
       "      <td>State Attorney General of Spain, offense repor...</td>\n",
       "      <td>[State Attorney General of Spain, offense repo...</td>\n",
       "    </tr>\n",
       "    <tr>\n",
       "      <th>122</th>\n",
       "      <td>Baltimore Orioles, Pittsburgh Pirates, America...</td>\n",
       "      <td>[Baltimore Orioles, Pittsburgh Pirates, Americ...</td>\n",
       "    </tr>\n",
       "    <tr>\n",
       "      <th>123</th>\n",
       "      <td>Dog, Sharks</td>\n",
       "      <td>[Dog, Sharks]</td>\n",
       "    </tr>\n",
       "    <tr>\n",
       "      <th>124</th>\n",
       "      <td>Olympic Games Tokyo 2020, Tokyo</td>\n",
       "      <td>[Olympic Games Tokyo 2020, Tokyo]</td>\n",
       "    </tr>\n",
       "  </tbody>\n",
       "</table>\n",
       "<p>125 rows × 2 columns</p>\n",
       "</div>"
      ],
      "text/plain": [
       "                                                 title  \\\n",
       "0    Spotify Camp Nou, FC Barcelona, Club Universid...   \n",
       "1                   FC Barcelona, Miralem Pjanić, Xavi   \n",
       "2    Manchester City F.C., Premier League, West Ham...   \n",
       "3    Manchester United F.C., Real Madrid CF, Manche...   \n",
       "4    Juan Dinenno, Club Universidad Nacional, Al-Sh...   \n",
       "..                                                 ...   \n",
       "120               Andrés García, Rafael Inclán, Sharks   \n",
       "121  State Attorney General of Spain, offense repor...   \n",
       "122  Baltimore Orioles, Pittsburgh Pirates, America...   \n",
       "123                                        Dog, Sharks   \n",
       "124                    Olympic Games Tokyo 2020, Tokyo   \n",
       "\n",
       "                                           entityNames  \n",
       "0    [Spotify Camp Nou, FC Barcelona, Club Universi...  \n",
       "1                 [FC Barcelona, Miralem Pjanić, Xavi]  \n",
       "2    [Manchester City F.C., Premier League, West Ha...  \n",
       "3    [Manchester United F.C., Real Madrid CF, Manch...  \n",
       "4    [Juan Dinenno, Club Universidad Nacional, Al-S...  \n",
       "..                                                 ...  \n",
       "120             [Andrés García, Rafael Inclán, Sharks]  \n",
       "121  [State Attorney General of Spain, offense repo...  \n",
       "122  [Baltimore Orioles, Pittsburgh Pirates, Americ...  \n",
       "123                                      [Dog, Sharks]  \n",
       "124                  [Olympic Games Tokyo 2020, Tokyo]  \n",
       "\n",
       "[125 rows x 2 columns]"
      ]
     },
     "execution_count": 28,
     "metadata": {},
     "output_type": "execute_result"
    }
   ],
   "source": [
    "rtst_Mexico = trends.realtime_trending_searches(pn='MX') # realtime search trends for Mexico\n",
    "rtst_Mexico"
   ]
  },
  {
   "cell_type": "code",
   "execution_count": null,
   "id": "7a2b492c",
   "metadata": {},
   "outputs": [],
   "source": []
  },
  {
   "cell_type": "markdown",
   "id": "2440595d",
   "metadata": {},
   "source": [
    "# Keyword Suggestions\n",
    "\n",
    "The suggestions() method will assist you in learning what people are looking for. It provides a list of extra suggested terms that can be used to narrow down a Google trending search."
   ]
  },
  {
   "cell_type": "code",
   "execution_count": 14,
   "id": "974fafc8",
   "metadata": {},
   "outputs": [
    {
     "data": {
      "text/html": [
       "<div>\n",
       "<style scoped>\n",
       "    .dataframe tbody tr th:only-of-type {\n",
       "        vertical-align: middle;\n",
       "    }\n",
       "\n",
       "    .dataframe tbody tr th {\n",
       "        vertical-align: top;\n",
       "    }\n",
       "\n",
       "    .dataframe thead th {\n",
       "        text-align: right;\n",
       "    }\n",
       "</style>\n",
       "<table border=\"1\" class=\"dataframe\">\n",
       "  <thead>\n",
       "    <tr style=\"text-align: right;\">\n",
       "      <th></th>\n",
       "      <th>title</th>\n",
       "      <th>type</th>\n",
       "    </tr>\n",
       "  </thead>\n",
       "  <tbody>\n",
       "    <tr>\n",
       "      <th>0</th>\n",
       "      <td>Machine learning</td>\n",
       "      <td>Field of study</td>\n",
       "    </tr>\n",
       "    <tr>\n",
       "      <th>1</th>\n",
       "      <td>Automated machine learning</td>\n",
       "      <td>Topic</td>\n",
       "    </tr>\n",
       "    <tr>\n",
       "      <th>2</th>\n",
       "      <td>Ensemble learning</td>\n",
       "      <td>Topic</td>\n",
       "    </tr>\n",
       "    <tr>\n",
       "      <th>3</th>\n",
       "      <td>Journal of Machine Learning Research</td>\n",
       "      <td>Peer-reviewed journal</td>\n",
       "    </tr>\n",
       "    <tr>\n",
       "      <th>4</th>\n",
       "      <td>Online machine learning</td>\n",
       "      <td>Topic</td>\n",
       "    </tr>\n",
       "  </tbody>\n",
       "</table>\n",
       "</div>"
      ],
      "text/plain": [
       "                                  title                   type\n",
       "0                      Machine learning         Field of study\n",
       "1            Automated machine learning                  Topic\n",
       "2                     Ensemble learning                  Topic\n",
       "3  Journal of Machine Learning Research  Peer-reviewed journal\n",
       "4               Online machine learning                  Topic"
      ]
     },
     "execution_count": 14,
     "metadata": {},
     "output_type": "execute_result"
    }
   ],
   "source": [
    "keywords = trends.suggestions(\n",
    "  keyword='Machine Learning')\n",
    "df = pd.DataFrame(keywords)\n",
    "df.drop(columns= 'mid') "
   ]
  },
  {
   "cell_type": "code",
   "execution_count": 32,
   "id": "1b72b51a",
   "metadata": {},
   "outputs": [
    {
     "name": "stdout",
     "output_type": "stream",
     "text": [
      "First suggestion: 'Machine learning'\n"
     ]
    }
   ],
   "source": [
    "keyword='Machine Learning'\n",
    "results=trends.suggestions(keyword)\n",
    "print(\"First suggestion: '{}'\" .format(results[0]['title']))"
   ]
  },
  {
   "cell_type": "markdown",
   "id": "c0136f73",
   "metadata": {},
   "source": [
    "# Categories\n",
    "\n",
    "Returns a dictionary of categories so you can use it to get the id necessary for the \"cat=\" argument"
   ]
  },
  {
   "cell_type": "code",
   "execution_count": 33,
   "id": "f325e3eb",
   "metadata": {},
   "outputs": [
    {
     "name": "stdout",
     "output_type": "stream",
     "text": [
      "First level: All categories Id: 0\n",
      "Second level: Arts & Entertainment Id: 3\n",
      "Third level: Celebrities & Entertainment News Id: 184\n",
      "\n"
     ]
    }
   ],
   "source": [
    "cat_dict = trends.categories()\n",
    "print(\"First level: {} Id: {}\".format(cat_dict['name'],cat_dict['id']))\n",
    "print(\"Second level: {} Id: {}\".format(cat_dict['children'][0]['name'],cat_dict['children'][0]['id']))\n",
    "print(\"Third level: {} Id: {}\".format(cat_dict['children'][0]['children'][0]['name'],cat_dict['children'][0]['children'][0]['id']))\n",
    "print(\"\")"
   ]
  },
  {
   "cell_type": "markdown",
   "id": "4c5063b4",
   "metadata": {},
   "source": [
    "### Conclusion\n",
    "\n",
    "Thus, it is clear that \"machine learning\"-related searches on Google began to rise in 2017 and peaked in 2022 and continue to do so today. This is how any keyword-based Google search analysis is done. To learn what users are searching for on Google at any particular time, a business can conduct Google search analysis."
   ]
  },
  {
   "cell_type": "code",
   "execution_count": null,
   "id": "9a686588",
   "metadata": {},
   "outputs": [],
   "source": []
  },
  {
   "cell_type": "markdown",
   "id": "4bfe1add",
   "metadata": {},
   "source": [
    "# Reference\n",
    "\n",
    "https://pypi.org/project/pytrends/"
   ]
  }
 ],
 "metadata": {
  "kernelspec": {
   "display_name": "Python 3 (ipykernel)",
   "language": "python",
   "name": "python3"
  },
  "language_info": {
   "codemirror_mode": {
    "name": "ipython",
    "version": 3
   },
   "file_extension": ".py",
   "mimetype": "text/x-python",
   "name": "python",
   "nbconvert_exporter": "python",
   "pygments_lexer": "ipython3",
   "version": "3.10.4"
  }
 },
 "nbformat": 4,
 "nbformat_minor": 5
}
